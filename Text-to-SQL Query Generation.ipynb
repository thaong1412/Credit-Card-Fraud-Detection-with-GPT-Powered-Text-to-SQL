{
 "cells": [
  {
   "cell_type": "markdown",
   "metadata": {},
   "source": [
    "# Text-to-SQL Query Generation"
   ]
  },
  {
   "cell_type": "markdown",
   "metadata": {},
   "source": [
    "This notebook presents a Python-based tool designed to simplify querying credit card fraud data by converting natural language queries into SQL using the GPT API. With this tool, users can easily interact with the dataset without needing SQL expertise.\n",
    "\n",
    "Develop a Python-based application within a Jupyter Notebook that uses the GPT API to convert natural language queries into SQL queries. These SQL queries should be executed on a database containing credit card fraud data, and the results should be displayed as a DataFrame.\n",
    "\n",
    "Dataset: You will be using the Credit Card Fraud dataset available at: Credit Card Fraud Data. link: https://www.kaggle.com/datasets/neharoychoudhury/credit-card-fraud-data\n",
    "\n",
    "#### Key Features:\n",
    "\n",
    "    - Database Setup: Load the credit card fraud data into an SQLite database for structured querying.\n",
    "    - Text-to-SQL: Leverage GPT to automatically convert natural language questions into SQL queries.\n",
    "    - Query Execution & Results: Execute SQL queries on the database and display results in a pandas DataFrame.\n",
    "    - SQL Query Display: The generated SQL query is shown alongside the query results for better understanding.\n",
    "\n",
    "This tool enhances fraud data analysis, making it accessible and efficient, even for users unfamiliar with SQL."
   ]
  },
  {
   "cell_type": "markdown",
   "metadata": {
    "id": "FlUuFtvmY7EE"
   },
   "source": [
    "# Import necessary libraries"
   ]
  },
  {
   "cell_type": "code",
   "execution_count": null,
   "metadata": {
    "colab": {
     "base_uri": "https://localhost:8080/"
    },
    "id": "xPyj3HsEZsDb",
    "outputId": "fb81f948-eafa-4390-f255-0cb0e444bb93"
   },
   "outputs": [
    {
     "name": "stdout",
     "output_type": "stream",
     "text": [
      "Requirement already satisfied: openai in /usr/local/lib/python3.10/dist-packages (1.40.6)\n",
      "Requirement already satisfied: anyio<5,>=3.5.0 in /usr/local/lib/python3.10/dist-packages (from openai) (3.7.1)\n",
      "Requirement already satisfied: distro<2,>=1.7.0 in /usr/lib/python3/dist-packages (from openai) (1.7.0)\n",
      "Requirement already satisfied: httpx<1,>=0.23.0 in /usr/local/lib/python3.10/dist-packages (from openai) (0.27.0)\n",
      "Requirement already satisfied: jiter<1,>=0.4.0 in /usr/local/lib/python3.10/dist-packages (from openai) (0.5.0)\n",
      "Requirement already satisfied: pydantic<3,>=1.9.0 in /usr/local/lib/python3.10/dist-packages (from openai) (2.8.2)\n",
      "Requirement already satisfied: sniffio in /usr/local/lib/python3.10/dist-packages (from openai) (1.3.1)\n",
      "Requirement already satisfied: tqdm>4 in /usr/local/lib/python3.10/dist-packages (from openai) (4.66.5)\n",
      "Requirement already satisfied: typing-extensions<5,>=4.11 in /usr/local/lib/python3.10/dist-packages (from openai) (4.12.2)\n",
      "Requirement already satisfied: idna>=2.8 in /usr/local/lib/python3.10/dist-packages (from anyio<5,>=3.5.0->openai) (3.7)\n",
      "Requirement already satisfied: exceptiongroup in /usr/local/lib/python3.10/dist-packages (from anyio<5,>=3.5.0->openai) (1.2.2)\n",
      "Requirement already satisfied: certifi in /usr/local/lib/python3.10/dist-packages (from httpx<1,>=0.23.0->openai) (2024.7.4)\n",
      "Requirement already satisfied: httpcore==1.* in /usr/local/lib/python3.10/dist-packages (from httpx<1,>=0.23.0->openai) (1.0.5)\n",
      "Requirement already satisfied: h11<0.15,>=0.13 in /usr/local/lib/python3.10/dist-packages (from httpcore==1.*->httpx<1,>=0.23.0->openai) (0.14.0)\n",
      "Requirement already satisfied: annotated-types>=0.4.0 in /usr/local/lib/python3.10/dist-packages (from pydantic<3,>=1.9.0->openai) (0.7.0)\n",
      "Requirement already satisfied: pydantic-core==2.20.1 in /usr/local/lib/python3.10/dist-packages (from pydantic<3,>=1.9.0->openai) (2.20.1)\n"
     ]
    }
   ],
   "source": [
    "!pip install openai"
   ]
  },
  {
   "cell_type": "code",
   "execution_count": null,
   "metadata": {
    "id": "DgReVssPWD9G"
   },
   "outputs": [],
   "source": [
    "import pandas as pd\n",
    "import numpy as np\n",
    "import matplotlib.pyplot as plt\n",
    "import seaborn as sns\n",
    "import sqlite3\n",
    "from openai import OpenAI"
   ]
  },
  {
   "cell_type": "markdown",
   "metadata": {
    "id": "EMJbZNt1Y9Nl"
   },
   "source": [
    "# Read the data"
   ]
  },
  {
   "cell_type": "code",
   "execution_count": null,
   "metadata": {
    "colab": {
     "base_uri": "https://localhost:8080/",
     "height": 206
    },
    "id": "L-oPUSaoYmc6",
    "outputId": "94e451c6-c8ba-41ce-c073-4eeced5b1a36"
   },
   "outputs": [
    {
     "data": {
      "application/vnd.google.colaboratory.intrinsic+json": {
       "summary": "{\n  \"name\": \"df\",\n  \"rows\": 14446,\n  \"fields\": [\n    {\n      \"column\": \"trans_date_trans_time\",\n      \"properties\": {\n        \"dtype\": \"string\",\n        \"num_unique_values\": 12126,\n        \"samples\": [\n          \"31-12-2020 11:51\",\n          \"13-01-2019 21:16\",\n          \"25-12-2020 11:52\"\n        ],\n        \"semantic_type\": \"\",\n        \"description\": \"\"\n      }\n    },\n    {\n      \"column\": \"merchant\",\n      \"properties\": {\n        \"dtype\": \"category\",\n        \"num_unique_values\": 693,\n        \"samples\": [\n          \"Sporer Inc\",\n          \"\\\"Lubowitz, Terry and Stracke\\\"\",\n          \"\\\"Bradtke, Torp and Bahringe\\\"\"\n        ],\n        \"semantic_type\": \"\",\n        \"description\": \"\"\n      }\n    },\n    {\n      \"column\": \"category\",\n      \"properties\": {\n        \"dtype\": \"category\",\n        \"num_unique_values\": 14,\n        \"samples\": [\n          \"entertainment\",\n          \"home\",\n          \"grocery_net\"\n        ],\n        \"semantic_type\": \"\",\n        \"description\": \"\"\n      }\n    },\n    {\n      \"column\": \"amt\",\n      \"properties\": {\n        \"dtype\": \"number\",\n        \"std\": 231.3525871883318,\n        \"min\": 1.0,\n        \"max\": 3261.47,\n        \"num_unique_values\": 9266,\n        \"samples\": [\n          3.31,\n          49.57,\n          116.56\n        ],\n        \"semantic_type\": \"\",\n        \"description\": \"\"\n      }\n    },\n    {\n      \"column\": \"city\",\n      \"properties\": {\n        \"dtype\": \"category\",\n        \"num_unique_values\": 176,\n        \"samples\": [\n          \"Saint Louis\",\n          \"Syracuse\",\n          \"Vancouver\"\n        ],\n        \"semantic_type\": \"\",\n        \"description\": \"\"\n      }\n    },\n    {\n      \"column\": \"state\",\n      \"properties\": {\n        \"dtype\": \"category\",\n        \"num_unique_values\": 13,\n        \"samples\": [\n          \"ID\",\n          \"WA\",\n          \"AK\"\n        ],\n        \"semantic_type\": \"\",\n        \"description\": \"\"\n      }\n    },\n    {\n      \"column\": \"lat\",\n      \"properties\": {\n        \"dtype\": \"number\",\n        \"std\": 5.317038926814486,\n        \"min\": 20.0271,\n        \"max\": 66.6933,\n        \"num_unique_values\": 183,\n        \"samples\": [\n          38.6171,\n          39.4584,\n          45.3099\n        ],\n        \"semantic_type\": \"\",\n        \"description\": \"\"\n      }\n    },\n    {\n      \"column\": \"long\",\n      \"properties\": {\n        \"dtype\": \"number\",\n        \"std\": 12.98581261817982,\n        \"min\": -165.6723,\n        \"max\": -89.6287,\n        \"num_unique_values\": 183,\n        \"samples\": [\n          -90.4504,\n          -106.3851,\n          -122.9685\n        ],\n        \"semantic_type\": \"\",\n        \"description\": \"\"\n      }\n    },\n    {\n      \"column\": \"city_pop\",\n      \"properties\": {\n        \"dtype\": \"number\",\n        \"std\": 290291,\n        \"min\": 46,\n        \"max\": 2383912,\n        \"num_unique_values\": 174,\n        \"samples\": [\n          6910,\n          6703,\n          260\n        ],\n        \"semantic_type\": \"\",\n        \"description\": \"\"\n      }\n    },\n    {\n      \"column\": \"job\",\n      \"properties\": {\n        \"dtype\": \"category\",\n        \"num_unique_values\": 163,\n        \"samples\": [\n          \"Planning and development surveyor\",\n          \"\\\"Nurse, children's\\\"\",\n          \"Chiropodist\"\n        ],\n        \"semantic_type\": \"\",\n        \"description\": \"\"\n      }\n    },\n    {\n      \"column\": \"dob\",\n      \"properties\": {\n        \"dtype\": \"category\",\n        \"num_unique_values\": 187,\n        \"samples\": [\n          \"30-09-1978\",\n          \"13-12-1956\",\n          \"13-07-1973\"\n        ],\n        \"semantic_type\": \"\",\n        \"description\": \"\"\n      }\n    },\n    {\n      \"column\": \"trans_num\",\n      \"properties\": {\n        \"dtype\": \"string\",\n        \"num_unique_values\": 14383,\n        \"samples\": [\n          \"2757d5e275cbd9c58ab5af80d4fa1a21\",\n          \"6bc2c77369a706483dc7fa7697a75f78\",\n          \"a1e867b221307c3543f30a3e68150120\"\n        ],\n        \"semantic_type\": \"\",\n        \"description\": \"\"\n      }\n    },\n    {\n      \"column\": \"merch_lat\",\n      \"properties\": {\n        \"dtype\": \"number\",\n        \"std\": 5.360593399991428,\n        \"min\": 19.032689,\n        \"max\": 67.510267,\n        \"num_unique_values\": 14376,\n        \"samples\": [\n          48.6678,\n          48.364484,\n          48.201024\n        ],\n        \"semantic_type\": \"\",\n        \"description\": \"\"\n      }\n    },\n    {\n      \"column\": \"merch_long\",\n      \"properties\": {\n        \"dtype\": \"number\",\n        \"std\": 12.995596210229996,\n        \"min\": -166.670685,\n        \"max\": -88.646366,\n        \"num_unique_values\": 14380,\n        \"samples\": [\n          -93.321336,\n          -103.672257,\n          -99.712615\n        ],\n        \"semantic_type\": \"\",\n        \"description\": \"\"\n      }\n    },\n    {\n      \"column\": \"is_fraud\",\n      \"properties\": {\n        \"dtype\": \"category\",\n        \"num_unique_values\": 4,\n        \"samples\": [\n          \"1\\\"2020-12-24 16:56:24\\\"\",\n          \"0\\\"2019-01-01 00:00:44\\\"\",\n          \"1\"\n        ],\n        \"semantic_type\": \"\",\n        \"description\": \"\"\n      }\n    }\n  ]\n}",
       "type": "dataframe",
       "variable_name": "df"
      },
      "text/html": [
       "\n",
       "  <div id=\"df-d9fb5396-931c-4792-a38b-93895ec2f4e5\" class=\"colab-df-container\">\n",
       "    <div>\n",
       "<style scoped>\n",
       "    .dataframe tbody tr th:only-of-type {\n",
       "        vertical-align: middle;\n",
       "    }\n",
       "\n",
       "    .dataframe tbody tr th {\n",
       "        vertical-align: top;\n",
       "    }\n",
       "\n",
       "    .dataframe thead th {\n",
       "        text-align: right;\n",
       "    }\n",
       "</style>\n",
       "<table border=\"1\" class=\"dataframe\">\n",
       "  <thead>\n",
       "    <tr style=\"text-align: right;\">\n",
       "      <th></th>\n",
       "      <th>trans_date_trans_time</th>\n",
       "      <th>merchant</th>\n",
       "      <th>category</th>\n",
       "      <th>amt</th>\n",
       "      <th>city</th>\n",
       "      <th>state</th>\n",
       "      <th>lat</th>\n",
       "      <th>long</th>\n",
       "      <th>city_pop</th>\n",
       "      <th>job</th>\n",
       "      <th>dob</th>\n",
       "      <th>trans_num</th>\n",
       "      <th>merch_lat</th>\n",
       "      <th>merch_long</th>\n",
       "      <th>is_fraud</th>\n",
       "    </tr>\n",
       "  </thead>\n",
       "  <tbody>\n",
       "    <tr>\n",
       "      <th>0</th>\n",
       "      <td>04-01-2019 00:58</td>\n",
       "      <td>\"Stokes, Christiansen and Sipes\"</td>\n",
       "      <td>grocery_net</td>\n",
       "      <td>14.37</td>\n",
       "      <td>Wales</td>\n",
       "      <td>AK</td>\n",
       "      <td>64.7556</td>\n",
       "      <td>-165.6723</td>\n",
       "      <td>145</td>\n",
       "      <td>\"Administrator, education\"</td>\n",
       "      <td>09-11-1939</td>\n",
       "      <td>a3806e984cec6ac0096d8184c64ad3a1</td>\n",
       "      <td>65.654142</td>\n",
       "      <td>-164.722603</td>\n",
       "      <td>1</td>\n",
       "    </tr>\n",
       "    <tr>\n",
       "      <th>1</th>\n",
       "      <td>04-01-2019 15:06</td>\n",
       "      <td>Predovic Inc</td>\n",
       "      <td>shopping_net</td>\n",
       "      <td>966.11</td>\n",
       "      <td>Wales</td>\n",
       "      <td>AK</td>\n",
       "      <td>64.7556</td>\n",
       "      <td>-165.6723</td>\n",
       "      <td>145</td>\n",
       "      <td>\"Administrator, education\"</td>\n",
       "      <td>09-11-1939</td>\n",
       "      <td>a59185fe1b9ccf21323f581d7477573f</td>\n",
       "      <td>65.468863</td>\n",
       "      <td>-165.473127</td>\n",
       "      <td>1</td>\n",
       "    </tr>\n",
       "    <tr>\n",
       "      <th>2</th>\n",
       "      <td>04-01-2019 22:37</td>\n",
       "      <td>Wisozk and Sons</td>\n",
       "      <td>misc_pos</td>\n",
       "      <td>49.61</td>\n",
       "      <td>Wales</td>\n",
       "      <td>AK</td>\n",
       "      <td>64.7556</td>\n",
       "      <td>-165.6723</td>\n",
       "      <td>145</td>\n",
       "      <td>\"Administrator, education\"</td>\n",
       "      <td>09-11-1939</td>\n",
       "      <td>86ba3a888b42cd3925881fa34177b4e0</td>\n",
       "      <td>65.347667</td>\n",
       "      <td>-165.914542</td>\n",
       "      <td>1</td>\n",
       "    </tr>\n",
       "    <tr>\n",
       "      <th>3</th>\n",
       "      <td>04-01-2019 23:06</td>\n",
       "      <td>Murray-Smitham</td>\n",
       "      <td>grocery_pos</td>\n",
       "      <td>295.26</td>\n",
       "      <td>Wales</td>\n",
       "      <td>AK</td>\n",
       "      <td>64.7556</td>\n",
       "      <td>-165.6723</td>\n",
       "      <td>145</td>\n",
       "      <td>\"Administrator, education\"</td>\n",
       "      <td>09-11-1939</td>\n",
       "      <td>3a068fe1d856f0ecedbed33e4b5f4496</td>\n",
       "      <td>64.445035</td>\n",
       "      <td>-166.080207</td>\n",
       "      <td>1</td>\n",
       "    </tr>\n",
       "    <tr>\n",
       "      <th>4</th>\n",
       "      <td>04-01-2019 23:59</td>\n",
       "      <td>Friesen Lt</td>\n",
       "      <td>health_fitness</td>\n",
       "      <td>18.17</td>\n",
       "      <td>Wales</td>\n",
       "      <td>AK</td>\n",
       "      <td>64.7556</td>\n",
       "      <td>-165.6723</td>\n",
       "      <td>145</td>\n",
       "      <td>\"Administrator, education\"</td>\n",
       "      <td>09-11-1939</td>\n",
       "      <td>891cdd1191028759dc20dc224347a0ff</td>\n",
       "      <td>65.447094</td>\n",
       "      <td>-165.446843</td>\n",
       "      <td>1</td>\n",
       "    </tr>\n",
       "  </tbody>\n",
       "</table>\n",
       "</div>\n",
       "    <div class=\"colab-df-buttons\">\n",
       "\n",
       "  <div class=\"colab-df-container\">\n",
       "    <button class=\"colab-df-convert\" onclick=\"convertToInteractive('df-d9fb5396-931c-4792-a38b-93895ec2f4e5')\"\n",
       "            title=\"Convert this dataframe to an interactive table.\"\n",
       "            style=\"display:none;\">\n",
       "\n",
       "  <svg xmlns=\"http://www.w3.org/2000/svg\" height=\"24px\" viewBox=\"0 -960 960 960\">\n",
       "    <path d=\"M120-120v-720h720v720H120Zm60-500h600v-160H180v160Zm220 220h160v-160H400v160Zm0 220h160v-160H400v160ZM180-400h160v-160H180v160Zm440 0h160v-160H620v160ZM180-180h160v-160H180v160Zm440 0h160v-160H620v160Z\"/>\n",
       "  </svg>\n",
       "    </button>\n",
       "\n",
       "  <style>\n",
       "    .colab-df-container {\n",
       "      display:flex;\n",
       "      gap: 12px;\n",
       "    }\n",
       "\n",
       "    .colab-df-convert {\n",
       "      background-color: #E8F0FE;\n",
       "      border: none;\n",
       "      border-radius: 50%;\n",
       "      cursor: pointer;\n",
       "      display: none;\n",
       "      fill: #1967D2;\n",
       "      height: 32px;\n",
       "      padding: 0 0 0 0;\n",
       "      width: 32px;\n",
       "    }\n",
       "\n",
       "    .colab-df-convert:hover {\n",
       "      background-color: #E2EBFA;\n",
       "      box-shadow: 0px 1px 2px rgba(60, 64, 67, 0.3), 0px 1px 3px 1px rgba(60, 64, 67, 0.15);\n",
       "      fill: #174EA6;\n",
       "    }\n",
       "\n",
       "    .colab-df-buttons div {\n",
       "      margin-bottom: 4px;\n",
       "    }\n",
       "\n",
       "    [theme=dark] .colab-df-convert {\n",
       "      background-color: #3B4455;\n",
       "      fill: #D2E3FC;\n",
       "    }\n",
       "\n",
       "    [theme=dark] .colab-df-convert:hover {\n",
       "      background-color: #434B5C;\n",
       "      box-shadow: 0px 1px 3px 1px rgba(0, 0, 0, 0.15);\n",
       "      filter: drop-shadow(0px 1px 2px rgba(0, 0, 0, 0.3));\n",
       "      fill: #FFFFFF;\n",
       "    }\n",
       "  </style>\n",
       "\n",
       "    <script>\n",
       "      const buttonEl =\n",
       "        document.querySelector('#df-d9fb5396-931c-4792-a38b-93895ec2f4e5 button.colab-df-convert');\n",
       "      buttonEl.style.display =\n",
       "        google.colab.kernel.accessAllowed ? 'block' : 'none';\n",
       "\n",
       "      async function convertToInteractive(key) {\n",
       "        const element = document.querySelector('#df-d9fb5396-931c-4792-a38b-93895ec2f4e5');\n",
       "        const dataTable =\n",
       "          await google.colab.kernel.invokeFunction('convertToInteractive',\n",
       "                                                    [key], {});\n",
       "        if (!dataTable) return;\n",
       "\n",
       "        const docLinkHtml = 'Like what you see? Visit the ' +\n",
       "          '<a target=\"_blank\" href=https://colab.research.google.com/notebooks/data_table.ipynb>data table notebook</a>'\n",
       "          + ' to learn more about interactive tables.';\n",
       "        element.innerHTML = '';\n",
       "        dataTable['output_type'] = 'display_data';\n",
       "        await google.colab.output.renderOutput(dataTable, element);\n",
       "        const docLink = document.createElement('div');\n",
       "        docLink.innerHTML = docLinkHtml;\n",
       "        element.appendChild(docLink);\n",
       "      }\n",
       "    </script>\n",
       "  </div>\n",
       "\n",
       "\n",
       "<div id=\"df-0138e836-ea36-4849-9d4c-eb1ecd42dca6\">\n",
       "  <button class=\"colab-df-quickchart\" onclick=\"quickchart('df-0138e836-ea36-4849-9d4c-eb1ecd42dca6')\"\n",
       "            title=\"Suggest charts\"\n",
       "            style=\"display:none;\">\n",
       "\n",
       "<svg xmlns=\"http://www.w3.org/2000/svg\" height=\"24px\"viewBox=\"0 0 24 24\"\n",
       "     width=\"24px\">\n",
       "    <g>\n",
       "        <path d=\"M19 3H5c-1.1 0-2 .9-2 2v14c0 1.1.9 2 2 2h14c1.1 0 2-.9 2-2V5c0-1.1-.9-2-2-2zM9 17H7v-7h2v7zm4 0h-2V7h2v10zm4 0h-2v-4h2v4z\"/>\n",
       "    </g>\n",
       "</svg>\n",
       "  </button>\n",
       "\n",
       "<style>\n",
       "  .colab-df-quickchart {\n",
       "      --bg-color: #E8F0FE;\n",
       "      --fill-color: #1967D2;\n",
       "      --hover-bg-color: #E2EBFA;\n",
       "      --hover-fill-color: #174EA6;\n",
       "      --disabled-fill-color: #AAA;\n",
       "      --disabled-bg-color: #DDD;\n",
       "  }\n",
       "\n",
       "  [theme=dark] .colab-df-quickchart {\n",
       "      --bg-color: #3B4455;\n",
       "      --fill-color: #D2E3FC;\n",
       "      --hover-bg-color: #434B5C;\n",
       "      --hover-fill-color: #FFFFFF;\n",
       "      --disabled-bg-color: #3B4455;\n",
       "      --disabled-fill-color: #666;\n",
       "  }\n",
       "\n",
       "  .colab-df-quickchart {\n",
       "    background-color: var(--bg-color);\n",
       "    border: none;\n",
       "    border-radius: 50%;\n",
       "    cursor: pointer;\n",
       "    display: none;\n",
       "    fill: var(--fill-color);\n",
       "    height: 32px;\n",
       "    padding: 0;\n",
       "    width: 32px;\n",
       "  }\n",
       "\n",
       "  .colab-df-quickchart:hover {\n",
       "    background-color: var(--hover-bg-color);\n",
       "    box-shadow: 0 1px 2px rgba(60, 64, 67, 0.3), 0 1px 3px 1px rgba(60, 64, 67, 0.15);\n",
       "    fill: var(--button-hover-fill-color);\n",
       "  }\n",
       "\n",
       "  .colab-df-quickchart-complete:disabled,\n",
       "  .colab-df-quickchart-complete:disabled:hover {\n",
       "    background-color: var(--disabled-bg-color);\n",
       "    fill: var(--disabled-fill-color);\n",
       "    box-shadow: none;\n",
       "  }\n",
       "\n",
       "  .colab-df-spinner {\n",
       "    border: 2px solid var(--fill-color);\n",
       "    border-color: transparent;\n",
       "    border-bottom-color: var(--fill-color);\n",
       "    animation:\n",
       "      spin 1s steps(1) infinite;\n",
       "  }\n",
       "\n",
       "  @keyframes spin {\n",
       "    0% {\n",
       "      border-color: transparent;\n",
       "      border-bottom-color: var(--fill-color);\n",
       "      border-left-color: var(--fill-color);\n",
       "    }\n",
       "    20% {\n",
       "      border-color: transparent;\n",
       "      border-left-color: var(--fill-color);\n",
       "      border-top-color: var(--fill-color);\n",
       "    }\n",
       "    30% {\n",
       "      border-color: transparent;\n",
       "      border-left-color: var(--fill-color);\n",
       "      border-top-color: var(--fill-color);\n",
       "      border-right-color: var(--fill-color);\n",
       "    }\n",
       "    40% {\n",
       "      border-color: transparent;\n",
       "      border-right-color: var(--fill-color);\n",
       "      border-top-color: var(--fill-color);\n",
       "    }\n",
       "    60% {\n",
       "      border-color: transparent;\n",
       "      border-right-color: var(--fill-color);\n",
       "    }\n",
       "    80% {\n",
       "      border-color: transparent;\n",
       "      border-right-color: var(--fill-color);\n",
       "      border-bottom-color: var(--fill-color);\n",
       "    }\n",
       "    90% {\n",
       "      border-color: transparent;\n",
       "      border-bottom-color: var(--fill-color);\n",
       "    }\n",
       "  }\n",
       "</style>\n",
       "\n",
       "  <script>\n",
       "    async function quickchart(key) {\n",
       "      const quickchartButtonEl =\n",
       "        document.querySelector('#' + key + ' button');\n",
       "      quickchartButtonEl.disabled = true;  // To prevent multiple clicks.\n",
       "      quickchartButtonEl.classList.add('colab-df-spinner');\n",
       "      try {\n",
       "        const charts = await google.colab.kernel.invokeFunction(\n",
       "            'suggestCharts', [key], {});\n",
       "      } catch (error) {\n",
       "        console.error('Error during call to suggestCharts:', error);\n",
       "      }\n",
       "      quickchartButtonEl.classList.remove('colab-df-spinner');\n",
       "      quickchartButtonEl.classList.add('colab-df-quickchart-complete');\n",
       "    }\n",
       "    (() => {\n",
       "      let quickchartButtonEl =\n",
       "        document.querySelector('#df-0138e836-ea36-4849-9d4c-eb1ecd42dca6 button');\n",
       "      quickchartButtonEl.style.display =\n",
       "        google.colab.kernel.accessAllowed ? 'block' : 'none';\n",
       "    })();\n",
       "  </script>\n",
       "</div>\n",
       "\n",
       "    </div>\n",
       "  </div>\n"
      ],
      "text/plain": [
       "  trans_date_trans_time                          merchant        category  \\\n",
       "0      04-01-2019 00:58  \"Stokes, Christiansen and Sipes\"     grocery_net   \n",
       "1      04-01-2019 15:06                      Predovic Inc    shopping_net   \n",
       "2      04-01-2019 22:37                   Wisozk and Sons        misc_pos   \n",
       "3      04-01-2019 23:06                    Murray-Smitham     grocery_pos   \n",
       "4      04-01-2019 23:59                        Friesen Lt  health_fitness   \n",
       "\n",
       "      amt   city state      lat      long  city_pop  \\\n",
       "0   14.37  Wales    AK  64.7556 -165.6723       145   \n",
       "1  966.11  Wales    AK  64.7556 -165.6723       145   \n",
       "2   49.61  Wales    AK  64.7556 -165.6723       145   \n",
       "3  295.26  Wales    AK  64.7556 -165.6723       145   \n",
       "4   18.17  Wales    AK  64.7556 -165.6723       145   \n",
       "\n",
       "                          job         dob                         trans_num  \\\n",
       "0  \"Administrator, education\"  09-11-1939  a3806e984cec6ac0096d8184c64ad3a1   \n",
       "1  \"Administrator, education\"  09-11-1939  a59185fe1b9ccf21323f581d7477573f   \n",
       "2  \"Administrator, education\"  09-11-1939  86ba3a888b42cd3925881fa34177b4e0   \n",
       "3  \"Administrator, education\"  09-11-1939  3a068fe1d856f0ecedbed33e4b5f4496   \n",
       "4  \"Administrator, education\"  09-11-1939  891cdd1191028759dc20dc224347a0ff   \n",
       "\n",
       "   merch_lat  merch_long is_fraud  \n",
       "0  65.654142 -164.722603        1  \n",
       "1  65.468863 -165.473127        1  \n",
       "2  65.347667 -165.914542        1  \n",
       "3  64.445035 -166.080207        1  \n",
       "4  65.447094 -165.446843        1  "
      ]
     },
     "execution_count": 24,
     "metadata": {},
     "output_type": "execute_result"
    }
   ],
   "source": [
    "df = pd.read_csv('/content/drive/MyDrive/Colab Notebooks/submitted CPSC final exam/fraud_data.csv')\n",
    "\n",
    "df.head()\n"
   ]
  },
  {
   "cell_type": "markdown",
   "metadata": {
    "id": "5XOAqfUEsZHx"
   },
   "source": [
    "Create a new column \"year\" to extract the year only."
   ]
  },
  {
   "cell_type": "code",
   "execution_count": null,
   "metadata": {
    "colab": {
     "base_uri": "https://localhost:8080/"
    },
    "id": "BrSNnk0KoGdR",
    "outputId": "31372857-57fe-4428-8037-e9f2d7217c7a"
   },
   "outputs": [
    {
     "name": "stdout",
     "output_type": "stream",
     "text": [
      "  trans_date_trans_time                          merchant        category  \\\n",
      "0   2019-01-04 00:58:00  \"Stokes, Christiansen and Sipes\"     grocery_net   \n",
      "1   2019-01-04 15:06:00                      Predovic Inc    shopping_net   \n",
      "2   2019-01-04 22:37:00                   Wisozk and Sons        misc_pos   \n",
      "3   2019-01-04 23:06:00                    Murray-Smitham     grocery_pos   \n",
      "4   2019-01-04 23:59:00                        Friesen Lt  health_fitness   \n",
      "\n",
      "      amt   city state      lat      long  city_pop  \\\n",
      "0   14.37  Wales    AK  64.7556 -165.6723       145   \n",
      "1  966.11  Wales    AK  64.7556 -165.6723       145   \n",
      "2   49.61  Wales    AK  64.7556 -165.6723       145   \n",
      "3  295.26  Wales    AK  64.7556 -165.6723       145   \n",
      "4   18.17  Wales    AK  64.7556 -165.6723       145   \n",
      "\n",
      "                          job         dob                         trans_num  \\\n",
      "0  \"Administrator, education\"  09-11-1939  a3806e984cec6ac0096d8184c64ad3a1   \n",
      "1  \"Administrator, education\"  09-11-1939  a59185fe1b9ccf21323f581d7477573f   \n",
      "2  \"Administrator, education\"  09-11-1939  86ba3a888b42cd3925881fa34177b4e0   \n",
      "3  \"Administrator, education\"  09-11-1939  3a068fe1d856f0ecedbed33e4b5f4496   \n",
      "4  \"Administrator, education\"  09-11-1939  891cdd1191028759dc20dc224347a0ff   \n",
      "\n",
      "   merch_lat  merch_long is_fraud  year  \n",
      "0  65.654142 -164.722603        1  2019  \n",
      "1  65.468863 -165.473127        1  2019  \n",
      "2  65.347667 -165.914542        1  2019  \n",
      "3  64.445035 -166.080207        1  2019  \n",
      "4  65.447094 -165.446843        1  2019  \n"
     ]
    }
   ],
   "source": [
    "df['trans_date_trans_time'] = pd.to_datetime(df['trans_date_trans_time'], format='%d-%m-%Y %H:%M')\n",
    "\n",
    "df['year'] = df['trans_date_trans_time'].dt.year\n",
    "\n",
    "print(df.head())"
   ]
  },
  {
   "cell_type": "code",
   "execution_count": null,
   "metadata": {
    "colab": {
     "base_uri": "https://localhost:8080/"
    },
    "id": "CshZ1Ra0YqNA",
    "outputId": "949e1cc9-c88b-4b06-de02-47ff4921a2ca"
   },
   "outputs": [
    {
     "name": "stdout",
     "output_type": "stream",
     "text": [
      "<class 'pandas.core.frame.DataFrame'>\n",
      "RangeIndex: 14446 entries, 0 to 14445\n",
      "Data columns (total 16 columns):\n",
      " #   Column                 Non-Null Count  Dtype         \n",
      "---  ------                 --------------  -----         \n",
      " 0   trans_date_trans_time  14446 non-null  datetime64[ns]\n",
      " 1   merchant               14446 non-null  object        \n",
      " 2   category               14446 non-null  object        \n",
      " 3   amt                    14446 non-null  float64       \n",
      " 4   city                   14446 non-null  object        \n",
      " 5   state                  14446 non-null  object        \n",
      " 6   lat                    14446 non-null  float64       \n",
      " 7   long                   14446 non-null  float64       \n",
      " 8   city_pop               14446 non-null  int64         \n",
      " 9   job                    14446 non-null  object        \n",
      " 10  dob                    14446 non-null  object        \n",
      " 11  trans_num              14446 non-null  object        \n",
      " 12  merch_lat              14446 non-null  float64       \n",
      " 13  merch_long             14446 non-null  float64       \n",
      " 14  is_fraud               14446 non-null  object        \n",
      " 15  year                   14446 non-null  int32         \n",
      "dtypes: datetime64[ns](1), float64(5), int32(1), int64(1), object(8)\n",
      "memory usage: 1.7+ MB\n"
     ]
    }
   ],
   "source": [
    "df.info()"
   ]
  },
  {
   "cell_type": "markdown",
   "metadata": {
    "id": "ylHyVDoJY_bs"
   },
   "source": [
    "# Load Data into SQLite Database"
   ]
  },
  {
   "cell_type": "code",
   "execution_count": null,
   "metadata": {
    "colab": {
     "base_uri": "https://localhost:8080/"
    },
    "id": "d-UzwUACZCey",
    "outputId": "344b56ce-9740-42fe-dbc7-774063fac301"
   },
   "outputs": [
    {
     "data": {
      "text/plain": [
       "<sqlite3.Cursor at 0x7bef1543f640>"
      ]
     },
     "execution_count": 27,
     "metadata": {},
     "output_type": "execute_result"
    }
   ],
   "source": [
    "conn = sqlite3.connect('fraud_database.db')\n",
    "cursor = conn.cursor()\n",
    "\n",
    "cursor.execute('''\n",
    "    CREATE TABLE IF NOT EXISTS FRAUD_TABLE (\n",
    "        trans_date_trans_time TEXT,\n",
    "        merchant TEXT,\n",
    "        category TEXT,\n",
    "        amt REAL,\n",
    "        city TEXT,\n",
    "        state TEXT,\n",
    "        lat REAL,\n",
    "        long REAL,\n",
    "        city_pop INTEGER,\n",
    "        job TEXT,\n",
    "        dob TEXT,\n",
    "        trans_num TEXT,\n",
    "        merch_lat REAL,\n",
    "        merch_long REAL,\n",
    "        is_fraud INTEGER,\n",
    "        year INTEGER\n",
    "    )\n",
    "''')"
   ]
  },
  {
   "cell_type": "code",
   "execution_count": null,
   "metadata": {
    "id": "-EnzK6NSZK2s"
   },
   "outputs": [],
   "source": [
    "df.to_sql('FRAUD_TABLE', conn, if_exists='replace', index=False, dtype={\n",
    "    'trans_date_trans_time': 'TEXT',\n",
    "    'merchant': 'TEXT',\n",
    "    'category': 'TEXT',\n",
    "    'amt': 'REAL',\n",
    "    'city': 'TEXT',\n",
    "    'state': 'TEXT',\n",
    "    'lat': 'REAL',\n",
    "    'long': 'REAL',\n",
    "    'city_pop': 'INTEGER',\n",
    "    'job': 'TEXT',\n",
    "    'dob': 'TEXT',\n",
    "    'trans_num': 'TEXT',\n",
    "    'merch_lat': 'REAL',\n",
    "    'merch_long': 'REAL',\n",
    "    'is_fraud': 'INTEGER',\n",
    "    'year': 'INTEGER'\n",
    "})\n",
    "\n",
    "# Commit the changes and close the connection\n",
    "conn.commit()\n",
    "conn.close()"
   ]
  },
  {
   "cell_type": "code",
   "execution_count": null,
   "metadata": {
    "colab": {
     "base_uri": "https://localhost:8080/"
    },
    "id": "sXKecwYneZys",
    "outputId": "890b78ee-c234-4b6d-f6d5-e91b3da6280b"
   },
   "outputs": [
    {
     "name": "stdout",
     "output_type": "stream",
     "text": [
      "(0, 'trans_date_trans_time', 'TEXT', 0, None, 0)\n",
      "(1, 'merchant', 'TEXT', 0, None, 0)\n",
      "(2, 'category', 'TEXT', 0, None, 0)\n",
      "(3, 'amt', 'REAL', 0, None, 0)\n",
      "(4, 'city', 'TEXT', 0, None, 0)\n",
      "(5, 'state', 'TEXT', 0, None, 0)\n",
      "(6, 'lat', 'REAL', 0, None, 0)\n",
      "(7, 'long', 'REAL', 0, None, 0)\n",
      "(8, 'city_pop', 'INTEGER', 0, None, 0)\n",
      "(9, 'job', 'TEXT', 0, None, 0)\n",
      "(10, 'dob', 'TEXT', 0, None, 0)\n",
      "(11, 'trans_num', 'TEXT', 0, None, 0)\n",
      "(12, 'merch_lat', 'REAL', 0, None, 0)\n",
      "(13, 'merch_long', 'REAL', 0, None, 0)\n",
      "(14, 'is_fraud', 'INTEGER', 0, None, 0)\n",
      "(15, 'year', 'INTEGER', 0, None, 0)\n"
     ]
    }
   ],
   "source": [
    "\n",
    "# Open a new connection to the SQLite database\n",
    "conn = sqlite3.connect('fraud_database.db')\n",
    "cursor = conn.cursor()\n",
    "\n",
    "# Check the schema\n",
    "cursor.execute('PRAGMA table_info(FRAUD_TABLE)')\n",
    "schema_info = cursor.fetchall()\n",
    "\n",
    "# Print schema information\n",
    "for column in schema_info:\n",
    "    print(column)\n",
    "\n",
    "# Close the connection\n",
    "conn.close()\n"
   ]
  },
  {
   "cell_type": "markdown",
   "metadata": {
    "id": "w-1kBV597MX_"
   },
   "source": [
    "Check the table in the database"
   ]
  },
  {
   "cell_type": "code",
   "execution_count": null,
   "metadata": {
    "colab": {
     "base_uri": "https://localhost:8080/"
    },
    "id": "DNVxkPh7llXV",
    "outputId": "2cccbca6-ea57-4888-ec32-6e0428d6d45e"
   },
   "outputs": [
    {
     "name": "stdout",
     "output_type": "stream",
     "text": [
      "Tables in the database:\n",
      "FRAUD_TABLE\n"
     ]
    }
   ],
   "source": [
    "\n",
    "def list_tables(db_path):\n",
    "    try:\n",
    "        # Connect to the SQLite database\n",
    "        conn = sqlite3.connect(db_path)\n",
    "        cursor = conn.cursor()\n",
    "\n",
    "        # Execute a query to get all table names\n",
    "        cursor.execute(\"SELECT name FROM sqlite_master WHERE type='table';\")\n",
    "\n",
    "        # Fetch all results\n",
    "        tables = cursor.fetchall()\n",
    "\n",
    "        # Close the connection\n",
    "        conn.close()\n",
    "\n",
    "        # Return the list of table names\n",
    "        return tables\n",
    "    except Exception as e:\n",
    "        print(f\"An error occurred: {e}\")\n",
    "        return None\n",
    "\n",
    "# Path to your SQLite database\n",
    "db_path = 'fraud_database.db'\n",
    "tables = list_tables(db_path)\n",
    "\n",
    "if tables is not None:\n",
    "    print(\"Tables in the database:\")\n",
    "    for table in tables:\n",
    "        print(table[0])\n",
    "else:\n",
    "    print(\"Could not retrieve tables.\")\n"
   ]
  },
  {
   "cell_type": "markdown",
   "metadata": {
    "id": "CD5fv8ANZxi1"
   },
   "source": [
    "# Set up API key"
   ]
  },
  {
   "cell_type": "code",
   "execution_count": 3,
   "metadata": {
    "id": "gPN5vZVFZ-QZ"
   },
   "outputs": [],
   "source": [
    "api_key = '[your key here]'"
   ]
  },
  {
   "cell_type": "markdown",
   "metadata": {
    "id": "UOs-3QcB7gPB"
   },
   "source": [
    "#### Text-to-SQL Functionality"
   ]
  },
  {
   "cell_type": "markdown",
   "metadata": {
    "id": "A4FtFXiX7oxz"
   },
   "source": [
    "Text-to-SQL Functionality:\n",
    "\n",
    "Uses the GPT API to convert a natural language query into an SQL query.\n",
    "        \n",
    "        \n",
    "client.chat.completions.create sends the prompt to the GPT model and retrieves the generated SQL query."
   ]
  },
  {
   "cell_type": "code",
   "execution_count": null,
   "metadata": {
    "id": "T8DN4uAuhTm0"
   },
   "outputs": [],
   "source": [
    "def text_to_sql(natural_language_query):\n",
    "    prompt = [\n",
    "        {\n",
    "            \"role\": \"system\",\n",
    "            \"content\": \"You are provided a table in the database is named FRAUD_TABLE. Columns include trans_date_trans_time (TEXT), merchant (TEXT), category (TEXT), amt (REAL), city (TEXT), state (TEXT), lat (REAL), long (REAL), city_pop (INTEGER), job (TEXT), dob (TEXT), trans_num (TEXT), merch_lat (REAL), merch_long (REAL), and is_fraud (INTEGER) and your task is to convert natural language questions into SQL queries. \"\n",
    "        },\n",
    "        {\n",
    "            \"role\": \"user\",\n",
    "            \"content\": f\"Convert the following natural language question into an SQL query: {natural_language_query}\"\n",
    "        }\n",
    "    ]\n",
    "    response = client.chat.completions.create(\n",
    "        model=\"gpt-4o-mini\",\n",
    "        temperature=0,\n",
    "        messages=prompt\n",
    "        )\n",
    "    sql_query = response.choices[0].message.content.strip()\n",
    "    sql_query = clean_sql_query(sql_query)\n",
    "    return sql_query\n"
   ]
  },
  {
   "cell_type": "code",
   "execution_count": null,
   "metadata": {
    "id": "OkAVMWjFd2GP"
   },
   "outputs": [],
   "source": []
  },
  {
   "cell_type": "code",
   "execution_count": null,
   "metadata": {
    "id": "QVB1IVmYkjWd"
   },
   "outputs": [],
   "source": [
    "def clean_sql_query(sql_query):\n",
    "    \"\"\"\n",
    "    Clean the SQL query by removing markdown formatting and extra characters.\n",
    "\n",
    "    Args:\n",
    "    sql_query (str): The SQL query string to be cleaned.\n",
    "\n",
    "    Returns:\n",
    "    str: The cleaned SQL query.\n",
    "    \"\"\"\n",
    "    # Remove markdown code block formatting (if present)\n",
    "    cleaned_query = sql_query.replace('```sql', '').replace('```', '').strip()\n",
    "\n",
    "    # Additional cleaning steps can be added here if necessary\n",
    "    # e.g., handling newlines or unnecessary spaces\n",
    "\n",
    "    return cleaned_query"
   ]
  },
  {
   "cell_type": "markdown",
   "metadata": {
    "id": "x1oWqv2N713l"
   },
   "source": [
    "Now create a function to:\n",
    "\n",
    "- Connects to the SQLite database.\n",
    "- Executes the SQL query using pd.read_sql_query to retrieve data into a DataFrame.\n",
    "- Prints the generated SQL query and the results."
   ]
  },
  {
   "cell_type": "code",
   "execution_count": null,
   "metadata": {
    "id": "u1JIk1POhGkU"
   },
   "outputs": [],
   "source": [
    "# Execute\n",
    "def execute_sql_and_display(sql_query):\n",
    "    try:\n",
    "        # Connect to the SQLite database\n",
    "        conn = sqlite3.connect('fraud_database.db')\n",
    "        cursor = conn.cursor()\n",
    "\n",
    "        # Print the generated SQL query\n",
    "        print(f\"Generated SQL Query: {sql_query}\")\n",
    "\n",
    "        # Execute the SQL query\n",
    "        df = pd.read_sql_query(sql_query, conn)\n",
    "\n",
    "        # Close the connection\n",
    "        conn.close()\n",
    "\n",
    "        return df\n",
    "    except Exception as e:\n",
    "        print(f\"An error occurred: {e}\")\n",
    "        return None\n",
    "\n"
   ]
  },
  {
   "cell_type": "code",
   "execution_count": null,
   "metadata": {
    "colab": {
     "base_uri": "https://localhost:8080/"
    },
    "id": "lzTdp98ZnL79",
    "outputId": "3739f24e-9184-4490-a8c1-b5e64d420ee1"
   },
   "outputs": [
    {
     "name": "stdout",
     "output_type": "stream",
     "text": [
      "Generated SQL Query: SELECT *\n",
      "FROM FRAUD_TABLE\n",
      "WHERE is_fraud = 1 AND strftime('%Y', trans_date_trans_time) = '2019';\n",
      "     trans_date_trans_time                          merchant        category  \\\n",
      "0      2019-01-04 00:58:00  \"Stokes, Christiansen and Sipes\"     grocery_net   \n",
      "1      2019-01-04 15:06:00                      Predovic Inc    shopping_net   \n",
      "2      2019-01-04 22:37:00                   Wisozk and Sons        misc_pos   \n",
      "3      2019-01-04 23:06:00                    Murray-Smitham     grocery_pos   \n",
      "4      2019-01-04 23:59:00                        Friesen Lt  health_fitness   \n",
      "...                    ...                               ...             ...   \n",
      "1036   2019-01-18 14:38:00                    Shanahan-Lehne   personal_care   \n",
      "1037   2019-01-18 22:06:00                         Beier LLC   entertainment   \n",
      "1038   2019-01-18 22:12:00               Bartoletti and Sons   personal_care   \n",
      "1039   2019-01-18 23:16:00                 Ankunding-Carroll          travel   \n",
      "1040   2019-01-18 23:31:00                      Wilkinson Lt   entertainment   \n",
      "\n",
      "         amt      city state      lat      long  city_pop  \\\n",
      "0      14.37     Wales    AK  64.7556 -165.6723       145   \n",
      "1     966.11     Wales    AK  64.7556 -165.6723       145   \n",
      "2      49.61     Wales    AK  64.7556 -165.6723       145   \n",
      "3     295.26     Wales    AK  64.7556 -165.6723       145   \n",
      "4      18.17     Wales    AK  64.7556 -165.6723       145   \n",
      "...      ...       ...   ...      ...       ...       ...   \n",
      "1036   21.54  Thompson    UT  38.9999 -109.6150        46   \n",
      "1037  528.98  Thompson    UT  38.9999 -109.6150        46   \n",
      "1038   21.23  Thompson    UT  38.9999 -109.6150        46   \n",
      "1039    9.33  Thompson    UT  38.9999 -109.6150        46   \n",
      "1040  386.91  Thompson    UT  38.9999 -109.6150        46   \n",
      "\n",
      "                             job         dob  \\\n",
      "0     \"Administrator, education\"  09-11-1939   \n",
      "1     \"Administrator, education\"  09-11-1939   \n",
      "2     \"Administrator, education\"  09-11-1939   \n",
      "3     \"Administrator, education\"  09-11-1939   \n",
      "4     \"Administrator, education\"  09-11-1939   \n",
      "...                          ...         ...   \n",
      "1036        \"Surveyor, minerals\"  23-04-1987   \n",
      "1037        \"Surveyor, minerals\"  23-04-1987   \n",
      "1038        \"Surveyor, minerals\"  23-04-1987   \n",
      "1039        \"Surveyor, minerals\"  23-04-1987   \n",
      "1040        \"Surveyor, minerals\"  23-04-1987   \n",
      "\n",
      "                             trans_num  merch_lat  merch_long  is_fraud  year  \n",
      "0     a3806e984cec6ac0096d8184c64ad3a1  65.654142 -164.722603         1  2019  \n",
      "1     a59185fe1b9ccf21323f581d7477573f  65.468863 -165.473127         1  2019  \n",
      "2     86ba3a888b42cd3925881fa34177b4e0  65.347667 -165.914542         1  2019  \n",
      "3     3a068fe1d856f0ecedbed33e4b5f4496  64.445035 -166.080207         1  2019  \n",
      "4     891cdd1191028759dc20dc224347a0ff  65.447094 -165.446843         1  2019  \n",
      "...                                ...        ...         ...       ...   ...  \n",
      "1036  ce3b2734ce646ef6a47b3484a8e043e5  38.211376 -109.986757         1  2019  \n",
      "1037  3417f366e2e1d5dd25a3a89a3aae9f3d  39.164469 -109.933543         1  2019  \n",
      "1038  2df9fa2d0e508ed2a83aa3ac6f4b5d5a  38.998205 -110.005615         1  2019  \n",
      "1039  a0ed41246d201717db7250fa2375c73b  39.230640 -108.990363         1  2019  \n",
      "1040  48dcc21bdef98405171a831d70b463c8  39.262556 -109.656927         1  2019  \n",
      "\n",
      "[1041 rows x 16 columns]\n"
     ]
    }
   ],
   "source": [
    "# Testing\n",
    "\n",
    "natural_language_query = \"Filter the fraud records in the year 2019\"\n",
    "sql_query = text_to_sql(natural_language_query)\n",
    "df_result = execute_sql_and_display(sql_query)\n",
    "\n",
    "if df_result is not None:\n",
    "    print(df_result)\n"
   ]
  },
  {
   "cell_type": "markdown",
   "metadata": {
    "id": "3tQZbWdApNpI"
   },
   "source": [
    "   \n",
    "   # Explain how the GPT API is used for text-to-SQL conversion.\n",
    "\n",
    "    Input: A natural language question is provided as input.\n",
    "\n",
    "    Prompt Construction: A prompt is constructed, instructing the GPT model to convert the natural language question into an SQL query.\n",
    "\n",
    "    Model Response: The GPT model generates a SQL query based on the prompt.\n",
    "    \n",
    "    Execution: The generated SQL query is executed against the database to retrieve or manipulate data.\n",
    "\n"
   ]
  }
 ],
 "metadata": {
  "colab": {
   "provenance": []
  },
  "kernelspec": {
   "display_name": "Python 3 (ipykernel)",
   "language": "python",
   "name": "python3"
  },
  "language_info": {
   "codemirror_mode": {
    "name": "ipython",
    "version": 3
   },
   "file_extension": ".py",
   "mimetype": "text/x-python",
   "name": "python",
   "nbconvert_exporter": "python",
   "pygments_lexer": "ipython3",
   "version": "3.11.4"
  }
 },
 "nbformat": 4,
 "nbformat_minor": 1
}
